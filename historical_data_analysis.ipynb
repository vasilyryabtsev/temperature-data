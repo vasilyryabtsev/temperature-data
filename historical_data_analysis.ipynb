{
 "cells": [
  {
   "cell_type": "markdown",
   "metadata": {},
   "source": [
    "# Анализ исторических данных о температуре"
   ]
  },
  {
   "cell_type": "code",
   "execution_count": 35,
   "metadata": {},
   "outputs": [],
   "source": [
    "import pandas as pd\n",
    "import numpy as np"
   ]
  },
  {
   "cell_type": "code",
   "execution_count": 36,
   "metadata": {},
   "outputs": [],
   "source": [
    "data = pd.read_csv('temperature_data.csv')"
   ]
  },
  {
   "cell_type": "code",
   "execution_count": 37,
   "metadata": {},
   "outputs": [
    {
     "data": {
      "text/html": [
       "<div>\n",
       "<style scoped>\n",
       "    .dataframe tbody tr th:only-of-type {\n",
       "        vertical-align: middle;\n",
       "    }\n",
       "\n",
       "    .dataframe tbody tr th {\n",
       "        vertical-align: top;\n",
       "    }\n",
       "\n",
       "    .dataframe thead th {\n",
       "        text-align: right;\n",
       "    }\n",
       "</style>\n",
       "<table border=\"1\" class=\"dataframe\">\n",
       "  <thead>\n",
       "    <tr style=\"text-align: right;\">\n",
       "      <th></th>\n",
       "      <th>city</th>\n",
       "      <th>timestamp</th>\n",
       "      <th>temperature</th>\n",
       "      <th>season</th>\n",
       "    </tr>\n",
       "  </thead>\n",
       "  <tbody>\n",
       "    <tr>\n",
       "      <th>0</th>\n",
       "      <td>New York</td>\n",
       "      <td>2010-01-01</td>\n",
       "      <td>-2.572540</td>\n",
       "      <td>winter</td>\n",
       "    </tr>\n",
       "    <tr>\n",
       "      <th>1</th>\n",
       "      <td>New York</td>\n",
       "      <td>2010-01-02</td>\n",
       "      <td>5.898166</td>\n",
       "      <td>winter</td>\n",
       "    </tr>\n",
       "    <tr>\n",
       "      <th>2</th>\n",
       "      <td>New York</td>\n",
       "      <td>2010-01-03</td>\n",
       "      <td>5.264936</td>\n",
       "      <td>winter</td>\n",
       "    </tr>\n",
       "    <tr>\n",
       "      <th>3</th>\n",
       "      <td>New York</td>\n",
       "      <td>2010-01-04</td>\n",
       "      <td>3.577332</td>\n",
       "      <td>winter</td>\n",
       "    </tr>\n",
       "    <tr>\n",
       "      <th>4</th>\n",
       "      <td>New York</td>\n",
       "      <td>2010-01-05</td>\n",
       "      <td>1.735268</td>\n",
       "      <td>winter</td>\n",
       "    </tr>\n",
       "  </tbody>\n",
       "</table>\n",
       "</div>"
      ],
      "text/plain": [
       "       city   timestamp  temperature  season\n",
       "0  New York  2010-01-01    -2.572540  winter\n",
       "1  New York  2010-01-02     5.898166  winter\n",
       "2  New York  2010-01-03     5.264936  winter\n",
       "3  New York  2010-01-04     3.577332  winter\n",
       "4  New York  2010-01-05     1.735268  winter"
      ]
     },
     "execution_count": 37,
     "metadata": {},
     "output_type": "execute_result"
    }
   ],
   "source": [
    "data.head()"
   ]
  },
  {
   "cell_type": "code",
   "execution_count": 38,
   "metadata": {},
   "outputs": [
    {
     "name": "stdout",
     "output_type": "stream",
     "text": [
      "<class 'pandas.core.frame.DataFrame'>\n",
      "RangeIndex: 54750 entries, 0 to 54749\n",
      "Data columns (total 4 columns):\n",
      " #   Column       Non-Null Count  Dtype  \n",
      "---  ------       --------------  -----  \n",
      " 0   city         54750 non-null  object \n",
      " 1   timestamp    54750 non-null  object \n",
      " 2   temperature  54750 non-null  float64\n",
      " 3   season       54750 non-null  object \n",
      "dtypes: float64(1), object(3)\n",
      "memory usage: 1.7+ MB\n"
     ]
    }
   ],
   "source": [
    "data.info()"
   ]
  },
  {
   "cell_type": "code",
   "execution_count": 39,
   "metadata": {},
   "outputs": [],
   "source": [
    "data['timestamp'] = pd.to_datetime(data['timestamp']).dt.normalize()"
   ]
  },
  {
   "cell_type": "code",
   "execution_count": 43,
   "metadata": {},
   "outputs": [
    {
     "data": {
      "text/plain": [
       "city           0\n",
       "timestamp      0\n",
       "temperature    0\n",
       "season         0\n",
       "dtype: int64"
      ]
     },
     "execution_count": 43,
     "metadata": {},
     "output_type": "execute_result"
    }
   ],
   "source": [
    "data.isna().sum()"
   ]
  },
  {
   "cell_type": "code",
   "execution_count": 44,
   "metadata": {},
   "outputs": [
    {
     "data": {
      "text/html": [
       "<div>\n",
       "<style scoped>\n",
       "    .dataframe tbody tr th:only-of-type {\n",
       "        vertical-align: middle;\n",
       "    }\n",
       "\n",
       "    .dataframe tbody tr th {\n",
       "        vertical-align: top;\n",
       "    }\n",
       "\n",
       "    .dataframe thead th {\n",
       "        text-align: right;\n",
       "    }\n",
       "</style>\n",
       "<table border=\"1\" class=\"dataframe\">\n",
       "  <thead>\n",
       "    <tr style=\"text-align: right;\">\n",
       "      <th></th>\n",
       "      <th>timestamp</th>\n",
       "      <th>temperature</th>\n",
       "    </tr>\n",
       "  </thead>\n",
       "  <tbody>\n",
       "    <tr>\n",
       "      <th>count</th>\n",
       "      <td>54750</td>\n",
       "      <td>54750.000000</td>\n",
       "    </tr>\n",
       "    <tr>\n",
       "      <th>mean</th>\n",
       "      <td>2014-12-30 12:00:00</td>\n",
       "      <td>18.301791</td>\n",
       "    </tr>\n",
       "    <tr>\n",
       "      <th>min</th>\n",
       "      <td>2010-01-01 00:00:00</td>\n",
       "      <td>-24.353913</td>\n",
       "    </tr>\n",
       "    <tr>\n",
       "      <th>25%</th>\n",
       "      <td>2012-07-01 00:00:00</td>\n",
       "      <td>11.133832</td>\n",
       "    </tr>\n",
       "    <tr>\n",
       "      <th>50%</th>\n",
       "      <td>2014-12-30 12:00:00</td>\n",
       "      <td>18.796332</td>\n",
       "    </tr>\n",
       "    <tr>\n",
       "      <th>75%</th>\n",
       "      <td>2017-06-30 00:00:00</td>\n",
       "      <td>26.146687</td>\n",
       "    </tr>\n",
       "    <tr>\n",
       "      <th>max</th>\n",
       "      <td>2019-12-29 00:00:00</td>\n",
       "      <td>57.024863</td>\n",
       "    </tr>\n",
       "    <tr>\n",
       "      <th>std</th>\n",
       "      <td>NaN</td>\n",
       "      <td>10.996794</td>\n",
       "    </tr>\n",
       "  </tbody>\n",
       "</table>\n",
       "</div>"
      ],
      "text/plain": [
       "                 timestamp   temperature\n",
       "count                54750  54750.000000\n",
       "mean   2014-12-30 12:00:00     18.301791\n",
       "min    2010-01-01 00:00:00    -24.353913\n",
       "25%    2012-07-01 00:00:00     11.133832\n",
       "50%    2014-12-30 12:00:00     18.796332\n",
       "75%    2017-06-30 00:00:00     26.146687\n",
       "max    2019-12-29 00:00:00     57.024863\n",
       "std                    NaN     10.996794"
      ]
     },
     "execution_count": 44,
     "metadata": {},
     "output_type": "execute_result"
    }
   ],
   "source": [
    "data.describe()"
   ]
  },
  {
   "cell_type": "code",
   "execution_count": 45,
   "metadata": {},
   "outputs": [
    {
     "data": {
      "text/html": [
       "<div>\n",
       "<style scoped>\n",
       "    .dataframe tbody tr th:only-of-type {\n",
       "        vertical-align: middle;\n",
       "    }\n",
       "\n",
       "    .dataframe tbody tr th {\n",
       "        vertical-align: top;\n",
       "    }\n",
       "\n",
       "    .dataframe thead th {\n",
       "        text-align: right;\n",
       "    }\n",
       "</style>\n",
       "<table border=\"1\" class=\"dataframe\">\n",
       "  <thead>\n",
       "    <tr style=\"text-align: right;\">\n",
       "      <th></th>\n",
       "      <th>city</th>\n",
       "      <th>season</th>\n",
       "    </tr>\n",
       "  </thead>\n",
       "  <tbody>\n",
       "    <tr>\n",
       "      <th>count</th>\n",
       "      <td>54750</td>\n",
       "      <td>54750</td>\n",
       "    </tr>\n",
       "    <tr>\n",
       "      <th>unique</th>\n",
       "      <td>15</td>\n",
       "      <td>4</td>\n",
       "    </tr>\n",
       "    <tr>\n",
       "      <th>top</th>\n",
       "      <td>New York</td>\n",
       "      <td>spring</td>\n",
       "    </tr>\n",
       "    <tr>\n",
       "      <th>freq</th>\n",
       "      <td>3650</td>\n",
       "      <td>13800</td>\n",
       "    </tr>\n",
       "  </tbody>\n",
       "</table>\n",
       "</div>"
      ],
      "text/plain": [
       "            city  season\n",
       "count      54750   54750\n",
       "unique        15       4\n",
       "top     New York  spring\n",
       "freq        3650   13800"
      ]
     },
     "execution_count": 45,
     "metadata": {},
     "output_type": "execute_result"
    }
   ],
   "source": [
    "data.describe(include='object')"
   ]
  },
  {
   "cell_type": "markdown",
   "metadata": {},
   "source": [
    "## Скользящее среднее"
   ]
  },
  {
   "cell_type": "markdown",
   "metadata": {},
   "source": [
    "[Алгоритм вычисления простого скользящего среднего](https://ru.wikipedia.org/wiki/%D0%A1%D0%BA%D0%BE%D0%BB%D1%8C%D0%B7%D1%8F%D1%89%D0%B0%D1%8F_%D1%81%D1%80%D0%B5%D0%B4%D0%BD%D1%8F%D1%8F#:~:text=.-,%D0%9F%D1%80%D0%BE%D1%81%D1%82%D0%BE%D0%B5%20%D1%81%D0%BA%D0%BE%D0%BB%D1%8C%D0%B7%D1%8F%D1%89%D0%B5%D0%B5%20%D1%81%D1%80%D0%B5%D0%B4%D0%BD%D0%B5%D0%B5,-%5B%D0%BF%D1%80%D0%B0%D0%B2%D0%B8%D1%82%D1%8C%20%7C)"
   ]
  },
  {
   "cell_type": "markdown",
   "metadata": {},
   "source": [
    "Температуры для которых нельзя посчитать сглаженные значения с заданным окном (январь 2014) остаются неизменными."
   ]
  },
  {
   "cell_type": "code",
   "execution_count": 46,
   "metadata": {},
   "outputs": [],
   "source": [
    "def SMA(data, n):\n",
    "    '''\n",
    "    Вычесляет простое скользящее среднее для температуры из таблицы data c задынным окном n.\n",
    "    Таблица должна быть отсортированна по дате.\n",
    "    '''\n",
    "    # Предобработка данных\n",
    "    data_copy = data.copy()\n",
    "    data_copy['smoothed_temperature'] = data_copy['temperature']\n",
    "    \n",
    "    # Подсчет сглаженной температуры для первой доступной даты\n",
    "    first_value = data_copy.head(n)['temperature'].mean()\n",
    "    first_index = data_copy.iloc[n - 1].name\n",
    "    data_copy.loc[first_index, 'smoothed_temperature'] = first_value\n",
    "    \n",
    "    # Подготовка данных для вычисления сглаживающих значений по рекурентной формуле\n",
    "    global prev_SMA\n",
    "    \n",
    "    prev_SMA = data_copy.loc[first_index]['smoothed_temperature']\n",
    "    data_copy[f'temp_{n}_days_ago'] = data_copy['temperature'].shift(n)\n",
    "    \n",
    "    # Вычесление остальных сглаженных температур\n",
    "    def recurrent_SMA(x):\n",
    "        '''\n",
    "        Функция для pd.apply: вычисляет сглаженную температуру по значениям текущего и предыдущего объекта.\n",
    "        '''\n",
    "        global prev_SMA\n",
    "        \n",
    "        x['smoothed_temperature'] = prev_SMA - x[f'temp_{n}_days_ago'] / n + x['temperature'] / n\n",
    "        \n",
    "        prev_SMA = x['smoothed_temperature']\n",
    "        \n",
    "        return x\n",
    "    \n",
    "    data_copy.iloc[n:] = data_copy.iloc[n:].apply(recurrent_SMA, axis=1)\n",
    "    \n",
    "    return data_copy['smoothed_temperature']"
   ]
  },
  {
   "cell_type": "code",
   "execution_count": 47,
   "metadata": {},
   "outputs": [],
   "source": [
    "for city in pd.unique(data['city']):\n",
    "    sorted_data = data[data['city'] == city].sort_values('timestamp')\n",
    "    smoothed_temperature = SMA(data[data['city'] == city], 30)\n",
    "    data.loc[smoothed_temperature.index, 'smoothed_temperature'] = smoothed_temperature"
   ]
  },
  {
   "cell_type": "code",
   "execution_count": 49,
   "metadata": {},
   "outputs": [
    {
     "data": {
      "text/html": [
       "<div>\n",
       "<style scoped>\n",
       "    .dataframe tbody tr th:only-of-type {\n",
       "        vertical-align: middle;\n",
       "    }\n",
       "\n",
       "    .dataframe tbody tr th {\n",
       "        vertical-align: top;\n",
       "    }\n",
       "\n",
       "    .dataframe thead th {\n",
       "        text-align: right;\n",
       "    }\n",
       "</style>\n",
       "<table border=\"1\" class=\"dataframe\">\n",
       "  <thead>\n",
       "    <tr style=\"text-align: right;\">\n",
       "      <th></th>\n",
       "      <th>city</th>\n",
       "      <th>timestamp</th>\n",
       "      <th>temperature</th>\n",
       "      <th>season</th>\n",
       "      <th>smoothed_temperature</th>\n",
       "    </tr>\n",
       "  </thead>\n",
       "  <tbody>\n",
       "    <tr>\n",
       "      <th>0</th>\n",
       "      <td>New York</td>\n",
       "      <td>2010-01-01</td>\n",
       "      <td>-2.572540</td>\n",
       "      <td>winter</td>\n",
       "      <td>-2.572540</td>\n",
       "    </tr>\n",
       "    <tr>\n",
       "      <th>1</th>\n",
       "      <td>New York</td>\n",
       "      <td>2010-01-02</td>\n",
       "      <td>5.898166</td>\n",
       "      <td>winter</td>\n",
       "      <td>5.898166</td>\n",
       "    </tr>\n",
       "    <tr>\n",
       "      <th>2</th>\n",
       "      <td>New York</td>\n",
       "      <td>2010-01-03</td>\n",
       "      <td>5.264936</td>\n",
       "      <td>winter</td>\n",
       "      <td>5.264936</td>\n",
       "    </tr>\n",
       "    <tr>\n",
       "      <th>3</th>\n",
       "      <td>New York</td>\n",
       "      <td>2010-01-04</td>\n",
       "      <td>3.577332</td>\n",
       "      <td>winter</td>\n",
       "      <td>3.577332</td>\n",
       "    </tr>\n",
       "    <tr>\n",
       "      <th>4</th>\n",
       "      <td>New York</td>\n",
       "      <td>2010-01-05</td>\n",
       "      <td>1.735268</td>\n",
       "      <td>winter</td>\n",
       "      <td>1.735268</td>\n",
       "    </tr>\n",
       "    <tr>\n",
       "      <th>...</th>\n",
       "      <td>...</td>\n",
       "      <td>...</td>\n",
       "      <td>...</td>\n",
       "      <td>...</td>\n",
       "      <td>...</td>\n",
       "    </tr>\n",
       "    <tr>\n",
       "      <th>54745</th>\n",
       "      <td>Mexico City</td>\n",
       "      <td>2019-12-25</td>\n",
       "      <td>10.558139</td>\n",
       "      <td>winter</td>\n",
       "      <td>12.031199</td>\n",
       "    </tr>\n",
       "    <tr>\n",
       "      <th>54746</th>\n",
       "      <td>Mexico City</td>\n",
       "      <td>2019-12-26</td>\n",
       "      <td>5.051404</td>\n",
       "      <td>winter</td>\n",
       "      <td>11.936984</td>\n",
       "    </tr>\n",
       "    <tr>\n",
       "      <th>54747</th>\n",
       "      <td>Mexico City</td>\n",
       "      <td>2019-12-27</td>\n",
       "      <td>9.463439</td>\n",
       "      <td>winter</td>\n",
       "      <td>11.698947</td>\n",
       "    </tr>\n",
       "    <tr>\n",
       "      <th>54748</th>\n",
       "      <td>Mexico City</td>\n",
       "      <td>2019-12-28</td>\n",
       "      <td>9.757999</td>\n",
       "      <td>winter</td>\n",
       "      <td>11.467487</td>\n",
       "    </tr>\n",
       "    <tr>\n",
       "      <th>54749</th>\n",
       "      <td>Mexico City</td>\n",
       "      <td>2019-12-29</td>\n",
       "      <td>10.294574</td>\n",
       "      <td>winter</td>\n",
       "      <td>11.411122</td>\n",
       "    </tr>\n",
       "  </tbody>\n",
       "</table>\n",
       "<p>54750 rows × 5 columns</p>\n",
       "</div>"
      ],
      "text/plain": [
       "              city  timestamp  temperature  season  smoothed_temperature\n",
       "0         New York 2010-01-01    -2.572540  winter             -2.572540\n",
       "1         New York 2010-01-02     5.898166  winter              5.898166\n",
       "2         New York 2010-01-03     5.264936  winter              5.264936\n",
       "3         New York 2010-01-04     3.577332  winter              3.577332\n",
       "4         New York 2010-01-05     1.735268  winter              1.735268\n",
       "...            ...        ...          ...     ...                   ...\n",
       "54745  Mexico City 2019-12-25    10.558139  winter             12.031199\n",
       "54746  Mexico City 2019-12-26     5.051404  winter             11.936984\n",
       "54747  Mexico City 2019-12-27     9.463439  winter             11.698947\n",
       "54748  Mexico City 2019-12-28     9.757999  winter             11.467487\n",
       "54749  Mexico City 2019-12-29    10.294574  winter             11.411122\n",
       "\n",
       "[54750 rows x 5 columns]"
      ]
     },
     "execution_count": 49,
     "metadata": {},
     "output_type": "execute_result"
    }
   ],
   "source": [
    "data"
   ]
  },
  {
   "cell_type": "code",
   "execution_count": 50,
   "metadata": {},
   "outputs": [
    {
     "data": {
      "text/html": [
       "<div>\n",
       "<style scoped>\n",
       "    .dataframe tbody tr th:only-of-type {\n",
       "        vertical-align: middle;\n",
       "    }\n",
       "\n",
       "    .dataframe tbody tr th {\n",
       "        vertical-align: top;\n",
       "    }\n",
       "\n",
       "    .dataframe thead th {\n",
       "        text-align: right;\n",
       "    }\n",
       "</style>\n",
       "<table border=\"1\" class=\"dataframe\">\n",
       "  <thead>\n",
       "    <tr style=\"text-align: right;\">\n",
       "      <th></th>\n",
       "      <th>timestamp</th>\n",
       "      <th>temperature</th>\n",
       "      <th>smoothed_temperature</th>\n",
       "    </tr>\n",
       "  </thead>\n",
       "  <tbody>\n",
       "    <tr>\n",
       "      <th>count</th>\n",
       "      <td>54750</td>\n",
       "      <td>54750.000000</td>\n",
       "      <td>54750.000000</td>\n",
       "    </tr>\n",
       "    <tr>\n",
       "      <th>mean</th>\n",
       "      <td>2014-12-30 12:00:00</td>\n",
       "      <td>18.301791</td>\n",
       "      <td>18.300746</td>\n",
       "    </tr>\n",
       "    <tr>\n",
       "      <th>min</th>\n",
       "      <td>2010-01-01 00:00:00</td>\n",
       "      <td>-24.353913</td>\n",
       "      <td>-22.670607</td>\n",
       "    </tr>\n",
       "    <tr>\n",
       "      <th>25%</th>\n",
       "      <td>2012-07-01 00:00:00</td>\n",
       "      <td>11.133832</td>\n",
       "      <td>12.098036</td>\n",
       "    </tr>\n",
       "    <tr>\n",
       "      <th>50%</th>\n",
       "      <td>2014-12-30 12:00:00</td>\n",
       "      <td>18.796332</td>\n",
       "      <td>18.593160</td>\n",
       "    </tr>\n",
       "    <tr>\n",
       "      <th>75%</th>\n",
       "      <td>2017-06-30 00:00:00</td>\n",
       "      <td>26.146687</td>\n",
       "      <td>25.773623</td>\n",
       "    </tr>\n",
       "    <tr>\n",
       "      <th>max</th>\n",
       "      <td>2019-12-29 00:00:00</td>\n",
       "      <td>57.024863</td>\n",
       "      <td>42.133612</td>\n",
       "    </tr>\n",
       "    <tr>\n",
       "      <th>std</th>\n",
       "      <td>NaN</td>\n",
       "      <td>10.996794</td>\n",
       "      <td>9.623177</td>\n",
       "    </tr>\n",
       "  </tbody>\n",
       "</table>\n",
       "</div>"
      ],
      "text/plain": [
       "                 timestamp   temperature  smoothed_temperature\n",
       "count                54750  54750.000000          54750.000000\n",
       "mean   2014-12-30 12:00:00     18.301791             18.300746\n",
       "min    2010-01-01 00:00:00    -24.353913            -22.670607\n",
       "25%    2012-07-01 00:00:00     11.133832             12.098036\n",
       "50%    2014-12-30 12:00:00     18.796332             18.593160\n",
       "75%    2017-06-30 00:00:00     26.146687             25.773623\n",
       "max    2019-12-29 00:00:00     57.024863             42.133612\n",
       "std                    NaN     10.996794              9.623177"
      ]
     },
     "execution_count": 50,
     "metadata": {},
     "output_type": "execute_result"
    }
   ],
   "source": [
    "data.describe()"
   ]
  },
  {
   "cell_type": "code",
   "execution_count": 54,
   "metadata": {},
   "outputs": [
    {
     "data": {
      "image/png": "[encoded data removed]",
      "text/plain": [
       "<Figure size 1200x600 with 1 Axes>"
      ]
     },
     "metadata": {},
     "output_type": "display_data"
    }
   ],
   "source": [
    "import matplotlib.pyplot as plt\n",
    "\n",
    "moscow_data = data[(data['city'] == 'Moscow') & (data['timestamp'].dt.year == 2018)]\n",
    "\n",
    "plt.figure(figsize=(12, 6))\n",
    "\n",
    "plt.plot(moscow_data['timestamp'], moscow_data['temperature'], label='temperature', color='blue', alpha=0.6)\n",
    "\n",
    "plt.plot(moscow_data['timestamp'], moscow_data['smoothed_temperature'], label='smoothed temperature', color='red', linewidth=2)\n",
    "\n",
    "plt.xlabel('date')\n",
    "plt.ylabel('t, C')\n",
    "plt.title('Moscow 2018')\n",
    "\n",
    "plt.legend()\n",
    "\n",
    "plt.grid(True)\n",
    "\n",
    "plt.show()\n"
   ]
  }
 ],
 "metadata": {
  "kernelspec": {
   "display_name": ".venv",
   "language": "python",
   "name": "python3"
  },
  "language_info": {
   "codemirror_mode": {
    "name": "ipython",
    "version": 3
   },
   "file_extension": ".py",
   "mimetype": "text/x-python",
   "name": "python",
   "nbconvert_exporter": "python",
   "pygments_lexer": "ipython3",
   "version": "3.10.12"
  }
 },
 "nbformat": 4,
 "nbformat_minor": 2
}
